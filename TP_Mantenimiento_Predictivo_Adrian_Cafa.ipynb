{
 "cells": [
  {
   "cell_type": "markdown",
   "metadata": {},
   "source": [
    "# Mantenimiento predictivo: detección de fallos de sensores con CNN\n",
    "\n",
    "Adrián Pablo Cafa -  ANALISIS Y VISUALIZACION DE DATOS CIENTIFICOS Y GEOGRAFICOS\n",
    "\n",
    "EJERCICIO FINAL PUNTO 3: Busquen un dataset de internet público de señales de sensores.  ¿Cómo lo abordarían exploratoriamente, qué procesamiento y qué análisis harían?'"
   ]
  },
  {
   "cell_type": "markdown",
   "metadata": {},
   "source": [
    "Se eligió analizar un problema de clasificación. Se utilizará un modelo hecho con la CNN en Keras:\n",
    "\n",
    "https://archive.ics.uci.edu/ml/datasets/Condition+monitoring+of+hydraulic+systems\n",
    "\n",
    "Este dataset es un conjunto de datos de la UCI (Condition Monitoring of Hydraulic Systems). El mismo que se describirá a continuación, se obtuvo experimentalmente con un equipo de pruebas hidráulicas. Este equipo de prueba consiste en un circuito primario de trabajo y un circuito secundario de refrigeración y filtración que están conectados a través del tanque de aceite. El sistema repite cíclicamente ciclos de carga constantes (de duración 60 segundos) y mide valores de proceso como presiones, flujos de volumen y temperaturas, mientras que el estado de los cuatro componentes hidráulicos (refrigerador, válvula, bomba y acumulador) se varía cuantitativamente.\n",
    "Se puede imaginar tener un sistema de tuberías hidráulicas que recibe cíclicamente impulsos debido, por ejemplo, a la transición de un determinado tipo de líquido en la tubería. Este fenómeno dura 60 segundos y fue medido por diferentes sensores (Sensor Physical quantity Unit Sampling rate, PS1 Pressure bar, PS2 Pressure bar, PS3 Pressure bar, PS4 Pressure bar, PS5 Pressure bar, PS6 Pressure bar, EPS1 Motor power, FS1 Volume flow, FS2 Volume flow, TS1 Temperature, TS2 Temperature, TS3 Temperature, TS4 Temperature, VS1 Vibration, CE Cooling efficiency, CP Cooling power, SE Efficiency factor) con diferentes frecuencias [Hz].\n",
    "\n",
    ">El objetivo o análisis es: predecir el estado de los cuatro componentes hidráulicos que componen la tubería. Estos valores de condición objetivo se anotan en forma de valores enteros (esto es fácil de codificar) y nos dicen si un componente en particular está a punto de fallar en cada ciclo.\n",
    "Los valores medidos por cada sensor están disponibles en un archivo txt, en el que cada row representa un ciclo en forma de serie temporal.\n",
    "\n",
    "IMPORTANTE: Se decidió tener en cuenta los datos procedentes de los sensores de temperatura (TS1, TS2, TS3, TS4) medidos con una frecuencia de 1 Hz (60 observaciones por cada ciclo).\n"
   ]
  },
  {
   "cell_type": "markdown",
   "metadata": {},
   "source": [
    "# Descripción del Dataset:\n",
    "\n",
    "\n",
    "Sacado propiamente de UCI:\n",
    "\n",
    "The data set contains raw process sensor data (i.e. without feature extraction) which are structured as matrices (tab-delimited) with the rows representing the cycles and the columns the data points within a cycle. The sensors involved are:\n",
    "\n",
    "```python\n",
    "      Sensor\tPhysical quantity\t\t\t\tUnit\t\tSampling rate\n",
    "      PS1\t\tPressure\t\t\t\t\t\tbar\t\t\t100 Hz\n",
    "      PS2\t\tPressure\t\t\t\t\t\tbar\t\t\t100 Hz\n",
    "      PS3\t\tPressure\t\t\t\t\t\tbar\t\t\t100 Hz\n",
    "      PS4\t\tPressure\t\t\t\t\t\tbar\t\t\t100 Hz\n",
    "      PS5\t\tPressure\t\t\t\t\t\tbar\t\t\t100 Hz\n",
    "      PS6\t\tPressure\t\t\t\t\t\tbar\t\t\t100 Hz\n",
    "      EPS1\t    Motor power\t\t\t\t\tW\t\t\t  100 Hz\n",
    "      FS1\t\tVolume flow\t\t\t\t\t l/min\t\t  10 Hz\n",
    "      FS2\t\tVolume flow\t\t\t\t\t l/min\t\t  10 Hz\n",
    "      TS1\t\tTemperature\t\t\t\t\t °C\t\t\t 1 Hz\n",
    "      TS2\t\tTemperature\t\t\t\t\t °C\t\t\t 1 Hz\n",
    "      TS3\t\tTemperature\t\t\t\t\t °C\t\t\t 1 Hz\n",
    "      TS4\t\tTemperature\t\t\t\t\t °C\t\t\t 1 Hz\n",
    "      VS1\t\tVibration\t\t\t\t\t\tmm/s\t\t  1 Hz\n",
    "      CE\t\tCooling efficiency (virtual)\t  %\t\t\t 1 Hz\n",
    "      CP\t\tCooling power (virtual)\t\t  kW\t\t\t 1 Hz\n",
    "      SE\t\tEfficiency factor\t\t\t\t %\t\t\t 1 Hz\n",
    "```\n",
    "\n",
    "The target condition values are cycle-wise annotated in ‘profile.txt‘ (tab-delimited). As before, the row number represents the cycle number. The columns are\n",
    "\n",
    "```python\n",
    "\n",
    "1: Cooler condition / %:\n",
    "\t3: close to total failure\n",
    "\t20: reduced effifiency\n",
    "\t100: full efficiency\n",
    "\n",
    "2: Valve condition / %:\n",
    "\t100: optimal switching behavior\n",
    "\t90: small lag\n",
    "\t80: severe lag\n",
    "\t73: close to total failure\n",
    "\n",
    "3: Internal pump leakage:\n",
    "\t0: no leakage\n",
    "\t1: weak leakage\n",
    "\t2: severe leakage\n",
    "\n",
    "4: Hydraulic accumulator / bar:\n",
    "\t130: optimal pressure\n",
    "\t115: slightly reduced pressure\n",
    "\t100: severely reduced pressure\n",
    "\t90: close to total failure\n",
    "\n",
    "5: stable flag:\n",
    "\t0: conditions were stable\n",
    "\t1: static conditions might not have been reached yet\n",
    "```"
   ]
  },
  {
   "cell_type": "code",
   "execution_count": 1,
   "metadata": {},
   "outputs": [],
   "source": [
    "import pandas as pd\n",
    "import matplotlib.pyplot as plt\n",
    "import numpy as np\n",
    "import itertools\n",
    "import random\n",
    "import os\n",
    "\n",
    "from sklearn.preprocessing import StandardScaler\n",
    "from sklearn.metrics import accuracy_score, confusion_matrix, classification_report\n",
    "from sklearn.model_selection import train_test_split\n",
    "from sklearn.manifold import TSNE\n",
    "from sklearn.decomposition import PCA\n",
    "\n",
    "import tensorflow as tf\n",
    "from tensorflow.keras.models import *\n",
    "from tensorflow.keras.layers import *\n",
    "from tensorflow.keras.utils import *"
   ]
  },
  {
   "cell_type": "code",
   "execution_count": 2,
   "metadata": {},
   "outputs": [
    {
     "name": "stdout",
     "output_type": "stream",
     "text": [
      "(8820, 60)\n"
     ]
    },
    {
     "data": {
      "text/html": [
       "<div>\n",
       "<style scoped>\n",
       "    .dataframe tbody tr th:only-of-type {\n",
       "        vertical-align: middle;\n",
       "    }\n",
       "\n",
       "    .dataframe tbody tr th {\n",
       "        vertical-align: top;\n",
       "    }\n",
       "\n",
       "    .dataframe thead th {\n",
       "        text-align: right;\n",
       "    }\n",
       "</style>\n",
       "<table border=\"1\" class=\"dataframe\">\n",
       "  <thead>\n",
       "    <tr style=\"text-align: right;\">\n",
       "      <th></th>\n",
       "      <th>0</th>\n",
       "      <th>1</th>\n",
       "      <th>2</th>\n",
       "      <th>3</th>\n",
       "      <th>4</th>\n",
       "      <th>5</th>\n",
       "      <th>6</th>\n",
       "      <th>7</th>\n",
       "      <th>8</th>\n",
       "      <th>9</th>\n",
       "      <th>...</th>\n",
       "      <th>50</th>\n",
       "      <th>51</th>\n",
       "      <th>52</th>\n",
       "      <th>53</th>\n",
       "      <th>54</th>\n",
       "      <th>55</th>\n",
       "      <th>56</th>\n",
       "      <th>57</th>\n",
       "      <th>58</th>\n",
       "      <th>59</th>\n",
       "    </tr>\n",
       "  </thead>\n",
       "  <tbody>\n",
       "    <tr>\n",
       "      <th>0</th>\n",
       "      <td>35.570</td>\n",
       "      <td>35.492</td>\n",
       "      <td>35.469</td>\n",
       "      <td>35.422</td>\n",
       "      <td>35.414</td>\n",
       "      <td>35.320</td>\n",
       "      <td>35.227</td>\n",
       "      <td>35.242</td>\n",
       "      <td>35.160</td>\n",
       "      <td>35.176</td>\n",
       "      <td>...</td>\n",
       "      <td>36.008</td>\n",
       "      <td>35.984</td>\n",
       "      <td>35.996</td>\n",
       "      <td>36.039</td>\n",
       "      <td>36.008</td>\n",
       "      <td>36.008</td>\n",
       "      <td>36.094</td>\n",
       "      <td>36.102</td>\n",
       "      <td>36.090</td>\n",
       "      <td>36.152</td>\n",
       "    </tr>\n",
       "    <tr>\n",
       "      <th>1</th>\n",
       "      <td>36.156</td>\n",
       "      <td>36.094</td>\n",
       "      <td>35.992</td>\n",
       "      <td>36.008</td>\n",
       "      <td>35.992</td>\n",
       "      <td>35.902</td>\n",
       "      <td>35.824</td>\n",
       "      <td>35.820</td>\n",
       "      <td>35.727</td>\n",
       "      <td>35.727</td>\n",
       "      <td>...</td>\n",
       "      <td>37.328</td>\n",
       "      <td>37.324</td>\n",
       "      <td>37.340</td>\n",
       "      <td>37.332</td>\n",
       "      <td>37.316</td>\n",
       "      <td>37.410</td>\n",
       "      <td>37.418</td>\n",
       "      <td>37.422</td>\n",
       "      <td>37.488</td>\n",
       "      <td>37.477</td>\n",
       "    </tr>\n",
       "    <tr>\n",
       "      <th>2</th>\n",
       "      <td>37.488</td>\n",
       "      <td>37.391</td>\n",
       "      <td>37.340</td>\n",
       "      <td>37.312</td>\n",
       "      <td>37.223</td>\n",
       "      <td>37.145</td>\n",
       "      <td>37.059</td>\n",
       "      <td>36.973</td>\n",
       "      <td>36.898</td>\n",
       "      <td>36.879</td>\n",
       "      <td>...</td>\n",
       "      <td>38.457</td>\n",
       "      <td>38.461</td>\n",
       "      <td>38.457</td>\n",
       "      <td>38.469</td>\n",
       "      <td>38.469</td>\n",
       "      <td>38.555</td>\n",
       "      <td>38.527</td>\n",
       "      <td>38.543</td>\n",
       "      <td>38.527</td>\n",
       "      <td>38.621</td>\n",
       "    </tr>\n",
       "    <tr>\n",
       "      <th>3</th>\n",
       "      <td>38.633</td>\n",
       "      <td>38.535</td>\n",
       "      <td>38.469</td>\n",
       "      <td>38.379</td>\n",
       "      <td>38.297</td>\n",
       "      <td>38.223</td>\n",
       "      <td>38.125</td>\n",
       "      <td>38.062</td>\n",
       "      <td>37.977</td>\n",
       "      <td>37.969</td>\n",
       "      <td>...</td>\n",
       "      <td>39.441</td>\n",
       "      <td>39.363</td>\n",
       "      <td>39.367</td>\n",
       "      <td>39.457</td>\n",
       "      <td>39.461</td>\n",
       "      <td>39.461</td>\n",
       "      <td>39.473</td>\n",
       "      <td>39.441</td>\n",
       "      <td>39.453</td>\n",
       "      <td>39.461</td>\n",
       "    </tr>\n",
       "    <tr>\n",
       "      <th>4</th>\n",
       "      <td>39.461</td>\n",
       "      <td>39.461</td>\n",
       "      <td>39.375</td>\n",
       "      <td>39.281</td>\n",
       "      <td>39.203</td>\n",
       "      <td>39.113</td>\n",
       "      <td>39.043</td>\n",
       "      <td>38.969</td>\n",
       "      <td>38.875</td>\n",
       "      <td>38.883</td>\n",
       "      <td>...</td>\n",
       "      <td>40.324</td>\n",
       "      <td>40.320</td>\n",
       "      <td>40.312</td>\n",
       "      <td>40.340</td>\n",
       "      <td>40.320</td>\n",
       "      <td>40.387</td>\n",
       "      <td>40.391</td>\n",
       "      <td>40.391</td>\n",
       "      <td>40.387</td>\n",
       "      <td>40.391</td>\n",
       "    </tr>\n",
       "  </tbody>\n",
       "</table>\n",
       "<p>5 rows × 60 columns</p>\n",
       "</div>"
      ],
      "text/plain": [
       "       0       1       2       3       4       5       6       7       8   \\\n",
       "0  35.570  35.492  35.469  35.422  35.414  35.320  35.227  35.242  35.160   \n",
       "1  36.156  36.094  35.992  36.008  35.992  35.902  35.824  35.820  35.727   \n",
       "2  37.488  37.391  37.340  37.312  37.223  37.145  37.059  36.973  36.898   \n",
       "3  38.633  38.535  38.469  38.379  38.297  38.223  38.125  38.062  37.977   \n",
       "4  39.461  39.461  39.375  39.281  39.203  39.113  39.043  38.969  38.875   \n",
       "\n",
       "       9   ...      50      51      52      53      54      55      56  \\\n",
       "0  35.176  ...  36.008  35.984  35.996  36.039  36.008  36.008  36.094   \n",
       "1  35.727  ...  37.328  37.324  37.340  37.332  37.316  37.410  37.418   \n",
       "2  36.879  ...  38.457  38.461  38.457  38.469  38.469  38.555  38.527   \n",
       "3  37.969  ...  39.441  39.363  39.367  39.457  39.461  39.461  39.473   \n",
       "4  38.883  ...  40.324  40.320  40.312  40.340  40.320  40.387  40.391   \n",
       "\n",
       "       57      58      59  \n",
       "0  36.102  36.090  36.152  \n",
       "1  37.422  37.488  37.477  \n",
       "2  38.543  38.527  38.621  \n",
       "3  39.441  39.453  39.461  \n",
       "4  40.391  40.387  40.391  \n",
       "\n",
       "[5 rows x 60 columns]"
      ]
     },
     "execution_count": 2,
     "metadata": {},
     "output_type": "execute_result"
    }
   ],
   "source": [
    "### LECTURA DE LOS DATOS ###\n",
    "\n",
    "label = pd.read_csv('profile.txt', sep='\\t', header=None)\n",
    "label.columns = ['Cooler','Valve','Pump','Accumulator','Flag']\n",
    "\n",
    "data = ['TS1.txt','TS2.txt','TS3.txt','TS4.txt']\n",
    "df = pd.DataFrame()\n",
    "\n",
    "for txt in data:\n",
    "    read_df = pd.read_csv(txt, sep='\\t', header=None)\n",
    "    df = df.append(read_df)    \n",
    "\n",
    "print(df.shape)\n",
    "df.head()"
   ]
  },
  {
   "cell_type": "code",
   "execution_count": 3,
   "metadata": {},
   "outputs": [
    {
     "data": {
      "text/plain": [
       "(2205, 5)"
      ]
     },
     "execution_count": 3,
     "metadata": {},
     "output_type": "execute_result"
    }
   ],
   "source": [
    "label.shape"
   ]
  },
  {
   "cell_type": "code",
   "execution_count": 4,
   "metadata": {},
   "outputs": [
    {
     "data": {
      "text/plain": [
       "(2205, 60, 4)"
      ]
     },
     "execution_count": 4,
     "metadata": {},
     "output_type": "execute_result"
    }
   ],
   "source": [
    "### REFORMULACION DE LOS DATOS ENTRE LOS SENSORES ###\n",
    "\n",
    "df = df.sort_index().values.reshape(-1,len(data),len(df.columns)).transpose(0,2,1)\n",
    "df.shape"
   ]
  },
  {
   "cell_type": "code",
   "execution_count": 5,
   "metadata": {},
   "outputs": [
    {
     "data": {
      "image/png": "[encoded data removed]",
      "text/plain": [
       "<Figure size 576x360 with 1 Axes>"
      ]
     },
     "metadata": {
      "needs_background": "light"
     },
     "output_type": "display_data"
    }
   ],
   "source": [
    "### PLOT DE LA TEMPERATURA ORIGINAL PARA EL ULTIMO CICLO ###\n",
    "\n",
    "plt.figure(figsize=(8,5))\n",
    "plt.plot(df[2204])\n",
    "plt.title('DATOS DE TEMPERATURA ORIGINALES')\n",
    "plt.ylabel('Temperatura'); plt.xlabel('Tiempo')\n",
    "np.set_printoptions(False)"
   ]
  },
  {
   "cell_type": "code",
   "execution_count": 6,
   "metadata": {},
   "outputs": [
    {
     "data": {
      "text/plain": [
       "100    741\n",
       "3      732\n",
       "20     732\n",
       "Name: Cooler, dtype: int64"
      ]
     },
     "execution_count": 6,
     "metadata": {},
     "output_type": "execute_result"
    }
   ],
   "source": [
    "### DISTRIBUCION DE LOS LABELS ###\n",
    "\n",
    "label = label.Cooler\n",
    "label.value_counts()"
   ]
  },
  {
   "cell_type": "markdown",
   "metadata": {},
   "source": [
    "En nuestro estudio nos interesa \"Cooler condition\""
   ]
  },
  {
   "cell_type": "code",
   "execution_count": 7,
   "metadata": {},
   "outputs": [
    {
     "data": {
      "text/plain": [
       "2200    100\n",
       "2201    100\n",
       "2202    100\n",
       "2203    100\n",
       "2204    100\n",
       "Name: Cooler, dtype: int64"
      ]
     },
     "execution_count": 7,
     "metadata": {},
     "output_type": "execute_result"
    }
   ],
   "source": [
    "label.tail()"
   ]
  },
  {
   "cell_type": "code",
   "execution_count": 8,
   "metadata": {},
   "outputs": [
    {
     "name": "stdout",
     "output_type": "stream",
     "text": [
      "{3: 0, 20: 1, 100: 2}\n",
      "{0: 3, 1: 20, 2: 100}\n"
     ]
    }
   ],
   "source": [
    "### MAPEO DE LOS LABEL ###\n",
    "# Hago un diccionario para identificar los targets\n",
    "\n",
    "diz_label, diz_reverse_label = {}, {}\n",
    "for i,lab in enumerate(label.unique()):\n",
    "    diz_label[lab] = i\n",
    "    diz_reverse_label[i] = lab\n",
    "\n",
    "print(diz_label)\n",
    "print(diz_reverse_label)\n",
    "label = label.map(diz_label)\n",
    "y = to_categorical(label)"
   ]
  },
  {
   "cell_type": "code",
   "execution_count": 9,
   "metadata": {},
   "outputs": [
    {
     "data": {
      "text/plain": [
       "(2205, 3)"
      ]
     },
     "execution_count": 9,
     "metadata": {},
     "output_type": "execute_result"
    }
   ],
   "source": [
    "y.shape"
   ]
  },
  {
   "cell_type": "code",
   "execution_count": 10,
   "metadata": {},
   "outputs": [
    {
     "data": {
      "text/plain": [
       "2200    2\n",
       "2201    2\n",
       "2202    2\n",
       "2203    2\n",
       "2204    2\n",
       "Name: Cooler, dtype: int64"
      ]
     },
     "execution_count": 10,
     "metadata": {},
     "output_type": "execute_result"
    }
   ],
   "source": [
    "label.tail()"
   ]
  },
  {
   "cell_type": "code",
   "execution_count": 11,
   "metadata": {},
   "outputs": [],
   "source": [
    "### TRAIN TEST SPLIT ###\n",
    "\n",
    "X_train, X_test, y_train, y_test = train_test_split(df, y, random_state = 42, test_size=0.2)"
   ]
  },
  {
   "cell_type": "code",
   "execution_count": 12,
   "metadata": {},
   "outputs": [],
   "source": [
    "### SCALE DATA ###\n",
    "\n",
    "scaler = StandardScaler()\n",
    "\n",
    "X_train = scaler.fit_transform(X_train.reshape(-1, X_train.shape[-1])).reshape(X_train.shape)\n",
    "X_test = scaler.transform(X_test.reshape(-1, X_test.shape[-1])).reshape(X_test.shape)"
   ]
  },
  {
   "cell_type": "code",
   "execution_count": 13,
   "metadata": {},
   "outputs": [
    {
     "data": {
      "text/plain": [
       "(1764, 60, 4)"
      ]
     },
     "execution_count": 13,
     "metadata": {},
     "output_type": "execute_result"
    }
   ],
   "source": [
    "X_train.shape"
   ]
  },
  {
   "cell_type": "code",
   "execution_count": 14,
   "metadata": {},
   "outputs": [
    {
     "data": {
      "text/plain": [
       "(441, 60, 4)"
      ]
     },
     "execution_count": 14,
     "metadata": {},
     "output_type": "execute_result"
    }
   ],
   "source": [
    "X_test.shape"
   ]
  },
  {
   "cell_type": "markdown",
   "metadata": {},
   "source": [
    "# Creación del Modelo\n",
    "\n",
    "Con el fin de captar características interesantes y correlaciones no obvias de las series, se adoptó una CNN 1D. Este tipo de modelo se adapta muy bien al análisis de las secuencias temporales de los sensores.\n",
    "Se utiliza la misma CNN que se describe en el siguiente sitio web de Keras:\n",
    "https://keras.io/guides/sequential_model/\n",
    "El modelo se construyó para clasificar el estado del componente de enfriamiento (Cooler condition) dando como entrada sólo la serie de tiempo de la temperatura en formato array (t_períodos x n_sensor para cada ciclo individual).\n",
    "\n",
    "Sacado del siguiente artículo:\n",
    "\n",
    "https://machinelearningmastery.com/cnn-models-for-human-activity-recognition-time-series-classification/\n",
    "\n",
    "Cita:\n",
    "\n",
    "Los modelos de redes neuronales convolutivas se desarrollaron para problemas de clasificación de imágenes, en los que el modelo aprende una representación interna de una entrada bidimensional, en un proceso denominado aprendizaje de características.\n",
    "Este mismo proceso puede aprovecharse en secuencias unidimensionales de datos. El modelo aprende a extraer características de las secuencias de observaciones y a mapear las características internas a los diferentes tipos de actividad.\n",
    "\n",
    "La ventaja de utilizar las CNN para la clasificación de secuencias es que pueden aprender directamente de los datos brutos de las series temporales y, a su vez, no requieren conocimientos especializados para diseñar manualmente las características de entrada. El modelo puede aprender una representación interna de los datos de las series cronológicas e idealmente lograr un rendimiento comparable al de los modelos que se ajustan a una versión del conjunto de datos con características de ingeniería.\n",
    "\n",
    "Se tomo de referencia el siguiente artículo también:\n",
    "\n",
    "https://blog.goodaudience.com/introduction-to-1d-convolutional-neural-networks-in-keras-for-time-sequences-3a7ff801a2cf"
   ]
  },
  {
   "cell_type": "code",
   "execution_count": 15,
   "metadata": {},
   "outputs": [
    {
     "name": "stdout",
     "output_type": "stream",
     "text": [
      "Train on 1411 samples, validate on 353 samples\n",
      "Epoch 1/10\n",
      "1411/1411 - 2s - loss: 0.1852 - accuracy: 0.9568 - val_loss: 0.1768 - val_accuracy: 0.9490\n",
      "Epoch 2/10\n",
      "1411/1411 - 1s - loss: 0.1270 - accuracy: 0.9631 - val_loss: 0.0796 - val_accuracy: 0.9802\n",
      "Epoch 3/10\n",
      "1411/1411 - 1s - loss: 0.1154 - accuracy: 0.9745 - val_loss: 0.0627 - val_accuracy: 0.9858\n",
      "Epoch 4/10\n",
      "1411/1411 - 1s - loss: 0.0941 - accuracy: 0.9773 - val_loss: 0.0650 - val_accuracy: 0.9858\n",
      "Epoch 5/10\n",
      "1411/1411 - 1s - loss: 0.1083 - accuracy: 0.9709 - val_loss: 0.0583 - val_accuracy: 0.9830\n",
      "Epoch 6/10\n",
      "1411/1411 - 1s - loss: 0.1076 - accuracy: 0.9787 - val_loss: 0.0703 - val_accuracy: 0.9830\n",
      "Epoch 7/10\n",
      "1411/1411 - 1s - loss: 0.0924 - accuracy: 0.9794 - val_loss: 0.0644 - val_accuracy: 0.9802\n",
      "Epoch 8/10\n",
      "1411/1411 - 1s - loss: 0.0876 - accuracy: 0.9787 - val_loss: 0.0584 - val_accuracy: 0.9802\n",
      "Epoch 9/10\n",
      "1411/1411 - 1s - loss: 0.0937 - accuracy: 0.9745 - val_loss: 0.0713 - val_accuracy: 0.9887\n",
      "Epoch 10/10\n",
      "1411/1411 - 1s - loss: 0.0959 - accuracy: 0.9773 - val_loss: 0.0504 - val_accuracy: 0.9802\n"
     ]
    }
   ],
   "source": [
    "num_sensors = 4\n",
    "TIME_PERIODS = 60\n",
    "BATCH_SIZE = 16\n",
    "EPOCHS = 10\n",
    "\n",
    "model_m = Sequential()\n",
    "model_m.add(Conv1D(100, 6, activation='relu', input_shape=(TIME_PERIODS, num_sensors)))\n",
    "model_m.add(Conv1D(100, 6, activation='relu'))\n",
    "model_m.add(MaxPooling1D(3))\n",
    "model_m.add(Conv1D(160, 6, activation='relu'))\n",
    "model_m.add(Conv1D(160, 6, activation='relu'))\n",
    "model_m.add(GlobalAveragePooling1D(name='G_A_P_1D'))\n",
    "model_m.add(Dropout(0.5))\n",
    "model_m.add(Dense(3, activation='softmax'))\n",
    "\n",
    "model_m.compile(loss='categorical_crossentropy', optimizer='adam', metrics=['accuracy'])\n",
    "history = model_m.fit(X_train, y_train, batch_size=BATCH_SIZE, epochs=EPOCHS, validation_split=0.2, verbose=2)"
   ]
  },
  {
   "cell_type": "markdown",
   "metadata": {},
   "source": [
    "Se verifico que el modelo con 10 epoch alcanza un accuracy de aproximadamente el 97% para los datos de entrenamiento."
   ]
  },
  {
   "cell_type": "code",
   "execution_count": 16,
   "metadata": {},
   "outputs": [
    {
     "name": "stdout",
     "output_type": "stream",
     "text": [
      "441/441 - 0s - loss: 0.0831 - accuracy: 0.9909\n"
     ]
    },
    {
     "data": {
      "text/plain": [
       "[0.08313014282255757, 0.9909297]"
      ]
     },
     "execution_count": 16,
     "metadata": {},
     "output_type": "execute_result"
    }
   ],
   "source": [
    "model_m.evaluate(X_test, y_test, verbose=2)"
   ]
  },
  {
   "cell_type": "code",
   "execution_count": 17,
   "metadata": {},
   "outputs": [],
   "source": [
    "### OBTENCION DE LA CLASE A PREDECIR ###\n",
    "\n",
    "pred_test = np.argmax(model_m.predict(X_test), axis=1)"
   ]
  },
  {
   "cell_type": "code",
   "execution_count": 18,
   "metadata": {},
   "outputs": [
    {
     "name": "stdout",
     "output_type": "stream",
     "text": [
      "              precision    recall  f1-score   support\n",
      "\n",
      "           3       0.99      0.99      0.99       152\n",
      "          20       0.98      0.99      0.99       135\n",
      "         100       1.00      0.99      0.99       154\n",
      "\n",
      "    accuracy                           0.99       441\n",
      "   macro avg       0.99      0.99      0.99       441\n",
      "weighted avg       0.99      0.99      0.99       441\n",
      "\n"
     ]
    }
   ],
   "source": [
    "print(classification_report([diz_reverse_label[np.argmax(label)] for label in y_test], \n",
    "                            [diz_reverse_label[label] for label in pred_test]))"
   ]
  },
  {
   "cell_type": "markdown",
   "metadata": {},
   "source": [
    "Ahora se graficará la matriz de confusion del modelo"
   ]
  },
  {
   "cell_type": "code",
   "execution_count": 19,
   "metadata": {},
   "outputs": [],
   "source": [
    "def plot_confusion_matrix(cm, classes, title='Confusion matrix', cmap=plt.cm.Blues):\n",
    "\n",
    "    cm = cm.astype('float') / cm.sum(axis=1)[:, np.newaxis]\n",
    "\n",
    "    plt.imshow(cm, interpolation='nearest', cmap=cmap)\n",
    "    plt.title(title, fontsize=25)\n",
    "    #plt.colorbar()\n",
    "    tick_marks = np.arange(len(classes))\n",
    "    plt.xticks(tick_marks, classes, rotation=90, fontsize=15)\n",
    "    plt.yticks(tick_marks, classes, fontsize=15)\n",
    "\n",
    "    fmt = '.2f'\n",
    "    thresh = cm.max() / 2.\n",
    "    for i, j in itertools.product(range(cm.shape[0]), range(cm.shape[1])):\n",
    "        plt.text(j, i, format(cm[i, j], fmt),\n",
    "                 horizontalalignment=\"center\",\n",
    "                 color=\"white\" if cm[i, j] > thresh else \"black\", fontsize = 14)\n",
    "\n",
    "    plt.ylabel('True label', fontsize=20)\n",
    "    plt.xlabel('Predicted label', fontsize=20)"
   ]
  },
  {
   "cell_type": "code",
   "execution_count": 20,
   "metadata": {},
   "outputs": [
    {
     "data": {
      "image/png": "[encoded data removed]",
      "text/plain": [
       "<Figure size 504x504 with 1 Axes>"
      ]
     },
     "metadata": {
      "needs_background": "light"
     },
     "output_type": "display_data"
    }
   ],
   "source": [
    "cnf_matrix = confusion_matrix([diz_reverse_label[np.argmax(label)] for label in y_test], \n",
    "                              [diz_reverse_label[label] for label in pred_test])\n",
    "\n",
    "plt.figure(figsize=(7,7))\n",
    "plot_confusion_matrix(cnf_matrix, classes=list(diz_reverse_label.values()))\n",
    "plt.show()"
   ]
  },
  {
   "cell_type": "markdown",
   "metadata": {},
   "source": [
    "Se verifico que haciendo la predicción en los datos de test el modelo alcanza una EXACTITUD del 0,9909%.\n",
    "\n",
    "IMPORTANTE: Este resultado es útil para la clase 3 (del componente Cooler condition “cercano a la falla total”) porque de esta manera podemos detectar y prevenir posibles fallas en el sistema."
   ]
  },
  {
   "cell_type": "markdown",
   "metadata": {},
   "source": [
    "# Representación visual:"
   ]
  },
  {
   "cell_type": "markdown",
   "metadata": {},
   "source": [
    "Se reutiliza la CNN para hacer un decodificador y extraer características inteligentes de la serie temporal de cada ciclo. \n",
    "Se tomo de ejemplo \n",
    "Con Keras se puede realizar en una sola línea de código:"
   ]
  },
  {
   "cell_type": "code",
   "execution_count": 21,
   "metadata": {},
   "outputs": [
    {
     "name": "stdout",
     "output_type": "stream",
     "text": [
      "Model: \"model\"\n",
      "_________________________________________________________________\n",
      "Layer (type)                 Output Shape              Param #   \n",
      "=================================================================\n",
      "conv1d_input (InputLayer)    [(None, 60, 4)]           0         \n",
      "_________________________________________________________________\n",
      "conv1d (Conv1D)              (None, 55, 100)           2500      \n",
      "_________________________________________________________________\n",
      "conv1d_1 (Conv1D)            (None, 50, 100)           60100     \n",
      "_________________________________________________________________\n",
      "max_pooling1d (MaxPooling1D) (None, 16, 100)           0         \n",
      "_________________________________________________________________\n",
      "conv1d_2 (Conv1D)            (None, 11, 160)           96160     \n",
      "_________________________________________________________________\n",
      "conv1d_3 (Conv1D)            (None, 6, 160)            153760    \n",
      "_________________________________________________________________\n",
      "G_A_P_1D (GlobalAveragePooli (None, 160)               0         \n",
      "=================================================================\n",
      "Total params: 312,520\n",
      "Trainable params: 312,520\n",
      "Non-trainable params: 0\n",
      "_________________________________________________________________\n"
     ]
    }
   ],
   "source": [
    "emb_model = Model(inputs=model_m.input, outputs=model_m.get_layer('G_A_P_1D').output)\n",
    "emb_model.summary()"
   ]
  },
  {
   "cell_type": "markdown",
   "metadata": {},
   "source": [
    "El nuevo modelo es un decodificador que recibe como entrada datos en el mismo formato de la NN que se utilizó para la tarea de clasificación (t_períodos x n_sensor para cada ciclo), es decir se toma la red YA ENTRENADA; y devuelve la \"predicción\" en forma de embeddings procedentes de la capa GlobalAveragePooling1D con dimensión relativa (una fila de 160 variables de embeddings para cada ciclo).\n",
    "Computando la predicción con nuestro codificador en los datos de test, adoptando una técnica para reducir las dimensiones (como PCA o T-SNE) y ploteando los resultados podemos ver lo siguiente, se selecciono PCA por tener experiencia usandolo"
   ]
  },
  {
   "cell_type": "code",
   "execution_count": 22,
   "metadata": {},
   "outputs": [],
   "source": [
    "### EXTRACCION DE EMBEDDINGS ###\n",
    "serie_features = emb_model.predict(X_test)"
   ]
  },
  {
   "cell_type": "code",
   "execution_count": 23,
   "metadata": {},
   "outputs": [],
   "source": [
    "### VISUALIZACION DE EMBEDDINGS ###\n",
    "pca = PCA(n_components=2)\n",
    "T = pca.fit_transform(serie_features)"
   ]
  },
  {
   "cell_type": "code",
   "execution_count": 24,
   "metadata": {},
   "outputs": [
    {
     "data": {
      "image/png": "[encoded data removed]",
      "text/plain": [
       "<Figure size 1152x648 with 1 Axes>"
      ]
     },
     "metadata": {
      "needs_background": "light"
     },
     "output_type": "display_data"
    }
   ],
   "source": [
    "plt.figure(figsize=(16,9))\n",
    "colors = {0:'red', 1:'blue', 2:'yellow'}\n",
    "plt.scatter(T.T[0], T.T[1], c=[colors[i] for i in np.argmax(y_test, axis=1)]) \n",
    "plt.show()"
   ]
  },
  {
   "cell_type": "markdown",
   "metadata": {},
   "source": [
    "Cada punto representa un ciclo en el conjunto de test y el color relativo es la clase objetivo de la condición de cooler. Es posible ver cómo la distinción entre los valores objetivo del componente de \"Cooler Condition\" está bien definido.\n",
    "Se logró observar el poder que poseen las CNN no sólo en caso de predicción sino también como instrumento para detectar relaciones invisibles entre los datos."
   ]
  },
  {
   "cell_type": "markdown",
   "metadata": {},
   "source": [
    "```python\n",
    "Recordando del mapeo realizado:\n",
    "{3: 0, 20: 1, 100: 2}\n",
    "\n",
    "Siendo en este caso:\n",
    "\n",
    "0:'red', 1:'blue', 2:'yellow'\n",
    "\n",
    "Cooler condition / %:\n",
    "    3: close to total failure (puntos rojos)\n",
    "    20: reduced effifiency (puntos azules)\n",
    "    100: full efficiency (puntos amarillos)\n",
    "```"
   ]
  }
 ],
 "metadata": {
  "kernelspec": {
   "display_name": "Python 3",
   "language": "python",
   "name": "python3"
  },
  "language_info": {
   "codemirror_mode": {
    "name": "ipython",
    "version": 3
   },
   "file_extension": ".py",
   "mimetype": "text/x-python",
   "name": "python",
   "nbconvert_exporter": "python",
   "pygments_lexer": "ipython3",
   "version": "3.6.10"
  }
 },
 "nbformat": 4,
 "nbformat_minor": 2
}
